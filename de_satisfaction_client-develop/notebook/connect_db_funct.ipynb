{
 "cells": [
  {
   "cell_type": "markdown",
   "metadata": {},
   "source": [
    "BASE RELATIONNELLE"
   ]
  },
  {
   "cell_type": "code",
   "execution_count": 5,
   "metadata": {},
   "outputs": [],
   "source": [
    "import pandas as pd\n",
    "import numpy as np\n",
    "import sqlite3, sqlalchemy\n",
    "from sqlalchemy import Table, Column, Integer, String, ForeignKey, MetaData, create_engine, text, inspect\n",
    "from IPython.display import Markdown, display\n",
    "%load_ext sql\n",
    "%config SqlMagic.displaycon = False\n",
    "%config SqlMagic.feedback = False\n",
    "%config SqlMagic.displaylimit = 50\n",
    "%sql sqlite:///trustscore.db\n",
    "\n",
    "\n"
   ]
  },
  {
   "cell_type": "code",
   "execution_count": 27,
   "metadata": {},
   "outputs": [],
   "source": [
    "# Chargement des données\n",
    "df_enterprises = pd.read_csv(r\"C:\\\\Users\\\\MSI KATANA B13V\\\\Desktop\\\\PARCOURS DE\\\\Projet Fil Rouge\\\\de_satisfaction_client\\\\data\\\\informations_entreprises.csv\", sep=',')\n",
    "df_comments = pd.read_json(r\"C:\\\\Users\\\\MSI KATANA B13V\\\\Desktop\\\\PARCOURS DE\\\\Projet Fil Rouge\\\\de_satisfaction_client\\\\data\\\\commentaires.json\")\n",
    "\n",
    "  "
   ]
  },
  {
   "cell_type": "code",
   "execution_count": 45,
   "metadata": {},
   "outputs": [],
   "source": [
    "import pandas as pd\n",
    "import sqlite3\n",
    "\n",
    "def insert_companies_and_reviews(df):\n",
    "    \"\"\"\n",
    "    Insère les données d'entreprises et de reviews dans les tables appropriées.\n",
    "    \n",
    "    Paramètres:\n",
    "    df (DataFrame): Le DataFrame contenant les données des entreprises et des reviews.\n",
    "    \"\"\"\n",
    "    # Connexion à la base de données SQLite\n",
    "    conn = sqlite3.connect('trustscore.db')\n",
    "    \n",
    "    # Préparation et insertion des données des entreprises\n",
    "    df['five_star_percentage'] = df['five_star_%'].str.rstrip('%').astype(float) / 100\n",
    "    df_companies = df[['company_name', 'town', 'country', 'institution_type']].copy()  # Crée une copie explicite\n",
    "    df_companies.to_sql('companies', conn, if_exists='append', index=False, method='multi')\n",
    "    \n",
    "    # Récupération des IDs des entreprises insérées\n",
    "    ids = pd.read_sql_query(\"SELECT id FROM companies\", conn)\n",
    "    df_companies['id'] = ids['id']  # Affectation directe sur une copie\n",
    "\n",
    "    # Préparation des données des évaluations\n",
    "    df_reviews = df.merge(df_companies, on='company_name', how='left')\n",
    "    df_reviews = df_reviews[['id', 'review', 'trust_score', 'five_star_percentage']]\n",
    "    df_reviews.columns = ['company_id', 'review', 'trust_score', 'five_star_percentage']\n",
    "\n",
    "    # Insertion des données dans la table `reviews`\n",
    "    df_reviews.to_sql('reviews', conn, if_exists='append', index=False, method='multi')\n",
    "\n",
    "    print(f\"Nombre de lignes dans le CSV initial : {len(df_enterprises)}\")\n",
    "    print(f\"Nombre de lignes après traitement : {len(df_companies)}\")\n",
    "    print(f\"Nombre de lignes insérées dans la base de données : {pd.read_sql_query('SELECT COUNT(*) FROM companies', conn).iloc[0, 0]}\")\n",
    "\n",
    "    # Fermer la connexion\n",
    "    conn.close()\n"
   ]
  },
  {
   "cell_type": "code",
   "execution_count": 46,
   "metadata": {},
   "outputs": [
    {
     "name": "stdout",
     "output_type": "stream",
     "text": [
      "Nombre de lignes dans le CSV initial : 20\n",
      "Nombre de lignes après traitement : 20\n",
      "Nombre de lignes insérées dans la base de données : 424\n"
     ]
    }
   ],
   "source": [
    "# Assurez-vous que df contient toutes les colonnes nécessaires\n",
    "insert_companies_and_reviews(df_enterprises)\n"
   ]
  },
  {
   "cell_type": "code",
   "execution_count": 41,
   "metadata": {},
   "outputs": [
    {
     "data": {
      "text/html": [
       "<table>\n",
       "    <tr>\n",
       "        <th>count(*)</th>\n",
       "    </tr>\n",
       "    <tr>\n",
       "        <td>120</td>\n",
       "    </tr>\n",
       "</table>"
      ],
      "text/plain": [
       "[(120,)]"
      ]
     },
     "execution_count": 41,
     "metadata": {},
     "output_type": "execute_result"
    }
   ],
   "source": [
    "\n"
   ]
  },
  {
   "cell_type": "code",
   "execution_count": 44,
   "metadata": {},
   "outputs": [
    {
     "data": {
      "text/html": [
       "<table>\n",
       "    <tr>\n",
       "        <th>count(*)</th>\n",
       "    </tr>\n",
       "    <tr>\n",
       "        <td>404</td>\n",
       "    </tr>\n",
       "</table>"
      ],
      "text/plain": [
       "[(404,)]"
      ]
     },
     "execution_count": 44,
     "metadata": {},
     "output_type": "execute_result"
    }
   ],
   "source": [
    "%%sql\n",
    "select count(*) from companies;"
   ]
  },
  {
   "cell_type": "markdown",
   "metadata": {},
   "source": [
    "BASE DE DONNEE ORIENTE OBJET"
   ]
  },
  {
   "cell_type": "code",
   "execution_count": 47,
   "metadata": {},
   "outputs": [],
   "source": [
    "from pymongo import MongoClient\n",
    "import json\n",
    "\n",
    "def insert_data_from_json_to_mongodb(json_file_path, db_name='trustscore', collection_name='commentaires', mongo_uri='mongodb://localhost:27017/'):\n",
    "    \"\"\"\n",
    "    Lit les données d'un fichier JSON et les insère dans une collection MongoDB.\n",
    "\n",
    "    Paramètres:\n",
    "    - json_file_path (str): Le chemin du fichier JSON contenant les données.\n",
    "    - db_name (str): Le nom de la base de données.\n",
    "    - collection_name (str): Le nom de la collection.\n",
    "    - mongo_uri (str): L'URI de connexion à MongoDB.\n",
    "\n",
    "    Retourne:\n",
    "    - result (InsertManyResult): Le résultat de l'insertion.\n",
    "    \"\"\"\n",
    "    try:\n",
    "        # Connexion à MongoDB\n",
    "        client = MongoClient(mongo_uri)\n",
    "\n",
    "        # Sélection de la base de données et de la collection\n",
    "        db = client[db_name]\n",
    "        collection = db[collection_name]\n",
    "\n",
    "        # Lecture des données du fichier JSON\n",
    "        with open(json_file_path, 'r', encoding='utf-8') as file:\n",
    "            data = json.load(file)\n",
    "\n",
    "        # Insertion des données\n",
    "        if isinstance(data, list):\n",
    "            # Insérer plusieurs documents\n",
    "            result = collection.insert_many(data)\n",
    "            print(f\"{len(result.inserted_ids)} documents ont été insérés.\")\n",
    "        else:\n",
    "            # Insérer un seul document\n",
    "            result = collection.insert_one(data)\n",
    "            print(f\"Document inséré avec l'ID : {result.inserted_id}\")\n",
    "\n",
    "        return result\n",
    "\n",
    "    except Exception as e:\n",
    "        print(f\"Erreur lors de l'insertion : {e}\")\n",
    "\n",
    "    finally:\n",
    "        # Fermer la connexion\n",
    "        client.close()\n",
    "\n",
    "\n"
   ]
  },
  {
   "cell_type": "code",
   "execution_count": 48,
   "metadata": {},
   "outputs": [
    {
     "name": "stdout",
     "output_type": "stream",
     "text": [
      "184 documents ont été insérés.\n"
     ]
    },
    {
     "data": {
      "text/plain": [
       "InsertManyResult([ObjectId('66d09e5ced56c618fb099b28'), ObjectId('66d09e5ced56c618fb099b29'), ObjectId('66d09e5ced56c618fb099b2a'), ObjectId('66d09e5ced56c618fb099b2b'), ObjectId('66d09e5ced56c618fb099b2c'), ObjectId('66d09e5ced56c618fb099b2d'), ObjectId('66d09e5ced56c618fb099b2e'), ObjectId('66d09e5ced56c618fb099b2f'), ObjectId('66d09e5ced56c618fb099b30'), ObjectId('66d09e5ced56c618fb099b31'), ObjectId('66d09e5ced56c618fb099b32'), ObjectId('66d09e5ced56c618fb099b33'), ObjectId('66d09e5ced56c618fb099b34'), ObjectId('66d09e5ced56c618fb099b35'), ObjectId('66d09e5ced56c618fb099b36'), ObjectId('66d09e5ced56c618fb099b37'), ObjectId('66d09e5ced56c618fb099b38'), ObjectId('66d09e5ced56c618fb099b39'), ObjectId('66d09e5ced56c618fb099b3a'), ObjectId('66d09e5ced56c618fb099b3b'), ObjectId('66d09e5ced56c618fb099b3c'), ObjectId('66d09e5ced56c618fb099b3d'), ObjectId('66d09e5ced56c618fb099b3e'), ObjectId('66d09e5ced56c618fb099b3f'), ObjectId('66d09e5ced56c618fb099b40'), ObjectId('66d09e5ced56c618fb099b41'), ObjectId('66d09e5ced56c618fb099b42'), ObjectId('66d09e5ced56c618fb099b43'), ObjectId('66d09e5ced56c618fb099b44'), ObjectId('66d09e5ced56c618fb099b45'), ObjectId('66d09e5ced56c618fb099b46'), ObjectId('66d09e5ced56c618fb099b47'), ObjectId('66d09e5ced56c618fb099b48'), ObjectId('66d09e5ced56c618fb099b49'), ObjectId('66d09e5ced56c618fb099b4a'), ObjectId('66d09e5ced56c618fb099b4b'), ObjectId('66d09e5ced56c618fb099b4c'), ObjectId('66d09e5ced56c618fb099b4d'), ObjectId('66d09e5ced56c618fb099b4e'), ObjectId('66d09e5ced56c618fb099b4f'), ObjectId('66d09e5ced56c618fb099b50'), ObjectId('66d09e5ced56c618fb099b51'), ObjectId('66d09e5ced56c618fb099b52'), ObjectId('66d09e5ced56c618fb099b53'), ObjectId('66d09e5ced56c618fb099b54'), ObjectId('66d09e5ced56c618fb099b55'), ObjectId('66d09e5ced56c618fb099b56'), ObjectId('66d09e5ced56c618fb099b57'), ObjectId('66d09e5ced56c618fb099b58'), ObjectId('66d09e5ced56c618fb099b59'), ObjectId('66d09e5ced56c618fb099b5a'), ObjectId('66d09e5ced56c618fb099b5b'), ObjectId('66d09e5ced56c618fb099b5c'), ObjectId('66d09e5ced56c618fb099b5d'), ObjectId('66d09e5ced56c618fb099b5e'), ObjectId('66d09e5ced56c618fb099b5f'), ObjectId('66d09e5ced56c618fb099b60'), ObjectId('66d09e5ced56c618fb099b61'), ObjectId('66d09e5ced56c618fb099b62'), ObjectId('66d09e5ced56c618fb099b63'), ObjectId('66d09e5ced56c618fb099b64'), ObjectId('66d09e5ced56c618fb099b65'), ObjectId('66d09e5ced56c618fb099b66'), ObjectId('66d09e5ced56c618fb099b67'), ObjectId('66d09e5ced56c618fb099b68'), ObjectId('66d09e5ced56c618fb099b69'), ObjectId('66d09e5ced56c618fb099b6a'), ObjectId('66d09e5ced56c618fb099b6b'), ObjectId('66d09e5ced56c618fb099b6c'), ObjectId('66d09e5ced56c618fb099b6d'), ObjectId('66d09e5ced56c618fb099b6e'), ObjectId('66d09e5ced56c618fb099b6f'), ObjectId('66d09e5ced56c618fb099b70'), ObjectId('66d09e5ced56c618fb099b71'), ObjectId('66d09e5ced56c618fb099b72'), ObjectId('66d09e5ced56c618fb099b73'), ObjectId('66d09e5ced56c618fb099b74'), ObjectId('66d09e5ced56c618fb099b75'), ObjectId('66d09e5ced56c618fb099b76'), ObjectId('66d09e5ced56c618fb099b77'), ObjectId('66d09e5ced56c618fb099b78'), ObjectId('66d09e5ced56c618fb099b79'), ObjectId('66d09e5ced56c618fb099b7a'), ObjectId('66d09e5ced56c618fb099b7b'), ObjectId('66d09e5ced56c618fb099b7c'), ObjectId('66d09e5ced56c618fb099b7d'), ObjectId('66d09e5ced56c618fb099b7e'), ObjectId('66d09e5ced56c618fb099b7f'), ObjectId('66d09e5ced56c618fb099b80'), ObjectId('66d09e5ced56c618fb099b81'), ObjectId('66d09e5ced56c618fb099b82'), ObjectId('66d09e5ced56c618fb099b83'), ObjectId('66d09e5ced56c618fb099b84'), ObjectId('66d09e5ced56c618fb099b85'), ObjectId('66d09e5ced56c618fb099b86'), ObjectId('66d09e5ced56c618fb099b87'), ObjectId('66d09e5ced56c618fb099b88'), ObjectId('66d09e5ced56c618fb099b89'), ObjectId('66d09e5ced56c618fb099b8a'), ObjectId('66d09e5ced56c618fb099b8b'), ObjectId('66d09e5ced56c618fb099b8c'), ObjectId('66d09e5ced56c618fb099b8d'), ObjectId('66d09e5ced56c618fb099b8e'), ObjectId('66d09e5ced56c618fb099b8f'), ObjectId('66d09e5ced56c618fb099b90'), ObjectId('66d09e5ced56c618fb099b91'), ObjectId('66d09e5ced56c618fb099b92'), ObjectId('66d09e5ced56c618fb099b93'), ObjectId('66d09e5ced56c618fb099b94'), ObjectId('66d09e5ced56c618fb099b95'), ObjectId('66d09e5ced56c618fb099b96'), ObjectId('66d09e5ced56c618fb099b97'), ObjectId('66d09e5ced56c618fb099b98'), ObjectId('66d09e5ced56c618fb099b99'), ObjectId('66d09e5ced56c618fb099b9a'), ObjectId('66d09e5ced56c618fb099b9b'), ObjectId('66d09e5ced56c618fb099b9c'), ObjectId('66d09e5ced56c618fb099b9d'), ObjectId('66d09e5ced56c618fb099b9e'), ObjectId('66d09e5ced56c618fb099b9f'), ObjectId('66d09e5ced56c618fb099ba0'), ObjectId('66d09e5ced56c618fb099ba1'), ObjectId('66d09e5ced56c618fb099ba2'), ObjectId('66d09e5ced56c618fb099ba3'), ObjectId('66d09e5ced56c618fb099ba4'), ObjectId('66d09e5ced56c618fb099ba5'), ObjectId('66d09e5ced56c618fb099ba6'), ObjectId('66d09e5ced56c618fb099ba7'), ObjectId('66d09e5ced56c618fb099ba8'), ObjectId('66d09e5ced56c618fb099ba9'), ObjectId('66d09e5ced56c618fb099baa'), ObjectId('66d09e5ced56c618fb099bab'), ObjectId('66d09e5ced56c618fb099bac'), ObjectId('66d09e5ced56c618fb099bad'), ObjectId('66d09e5ced56c618fb099bae'), ObjectId('66d09e5ced56c618fb099baf'), ObjectId('66d09e5ced56c618fb099bb0'), ObjectId('66d09e5ced56c618fb099bb1'), ObjectId('66d09e5ced56c618fb099bb2'), ObjectId('66d09e5ced56c618fb099bb3'), ObjectId('66d09e5ced56c618fb099bb4'), ObjectId('66d09e5ced56c618fb099bb5'), ObjectId('66d09e5ced56c618fb099bb6'), ObjectId('66d09e5ced56c618fb099bb7'), ObjectId('66d09e5ced56c618fb099bb8'), ObjectId('66d09e5ced56c618fb099bb9'), ObjectId('66d09e5ced56c618fb099bba'), ObjectId('66d09e5ced56c618fb099bbb'), ObjectId('66d09e5ced56c618fb099bbc'), ObjectId('66d09e5ced56c618fb099bbd'), ObjectId('66d09e5ced56c618fb099bbe'), ObjectId('66d09e5ced56c618fb099bbf'), ObjectId('66d09e5ced56c618fb099bc0'), ObjectId('66d09e5ced56c618fb099bc1'), ObjectId('66d09e5ced56c618fb099bc2'), ObjectId('66d09e5ced56c618fb099bc3'), ObjectId('66d09e5ced56c618fb099bc4'), ObjectId('66d09e5ced56c618fb099bc5'), ObjectId('66d09e5ced56c618fb099bc6'), ObjectId('66d09e5ced56c618fb099bc7'), ObjectId('66d09e5ced56c618fb099bc8'), ObjectId('66d09e5ced56c618fb099bc9'), ObjectId('66d09e5ced56c618fb099bca'), ObjectId('66d09e5ced56c618fb099bcb'), ObjectId('66d09e5ced56c618fb099bcc'), ObjectId('66d09e5ced56c618fb099bcd'), ObjectId('66d09e5ced56c618fb099bce'), ObjectId('66d09e5ced56c618fb099bcf'), ObjectId('66d09e5ced56c618fb099bd0'), ObjectId('66d09e5ced56c618fb099bd1'), ObjectId('66d09e5ced56c618fb099bd2'), ObjectId('66d09e5ced56c618fb099bd3'), ObjectId('66d09e5ced56c618fb099bd4'), ObjectId('66d09e5ced56c618fb099bd5'), ObjectId('66d09e5ced56c618fb099bd6'), ObjectId('66d09e5ced56c618fb099bd7'), ObjectId('66d09e5ced56c618fb099bd8'), ObjectId('66d09e5ced56c618fb099bd9'), ObjectId('66d09e5ced56c618fb099bda'), ObjectId('66d09e5ced56c618fb099bdb'), ObjectId('66d09e5ced56c618fb099bdc'), ObjectId('66d09e5ced56c618fb099bdd'), ObjectId('66d09e5ced56c618fb099bde'), ObjectId('66d09e5ced56c618fb099bdf')], acknowledged=True)"
      ]
     },
     "execution_count": 48,
     "metadata": {},
     "output_type": "execute_result"
    }
   ],
   "source": [
    "# Utilisation de la fonction pour insérer les données du fichier JSON\n",
    "json_file_path = r'C:\\Users\\MSI KATANA B13V\\Downloads\\de_satisfaction_client-develop\\de_satisfaction_client-develop\\df_commentaires_par_entreprise.json'  # Remplacez par le chemin de votre fichier JSON\n",
    "insert_data_from_json_to_mongodb(json_file_path)"
   ]
  },
  {
   "cell_type": "code",
   "execution_count": null,
   "metadata": {},
   "outputs": [],
   "source": []
  }
 ],
 "metadata": {
  "kernelspec": {
   "display_name": "Python 3",
   "language": "python",
   "name": "python3"
  },
  "language_info": {
   "codemirror_mode": {
    "name": "ipython",
    "version": 3
   },
   "file_extension": ".py",
   "mimetype": "text/x-python",
   "name": "python",
   "nbconvert_exporter": "python",
   "pygments_lexer": "ipython3",
   "version": "3.10.10"
  }
 },
 "nbformat": 4,
 "nbformat_minor": 2
}
