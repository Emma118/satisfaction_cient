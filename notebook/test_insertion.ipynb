{
 "cells": [
  {
   "cell_type": "code",
   "execution_count": null,
   "metadata": {},
   "outputs": [],
   "source": [
    "import sys\n",
    "import os\n",
    "\n",
    "# Ajouter le répertoire parent au PYTHONPATH\n",
    "parent_dir = os.path.abspath(os.path.join(os.getcwd(), '..', 'src'))\n",
    "sys.path.append(parent_dir)\n",
    "\n",
    "# Importer les fonctions du module mongo_utils\n",
    "from mongo_insertion import insert_data_from_json_to_mongodb\n",
    "\n",
    "# Spécifiez le chemin de votre fichier JSON\n",
    "json_file_path = r'C:\\Users\\MSI KATANA B13V\\Downloads\\de_satisfaction_client-develop\\de_satisfaction_client-develop\\df_commentaires_par_entreprise.json'  # Remplacez par le chemin réel de votre fichier JSON\n",
    "\n",
    "# Utiliser la fonction pour insérer les données dans MongoDB\n",
    "insert_data_from_json_to_mongodb(json_file_path)\n"
   ]
  },
  {
   "cell_type": "code",
   "execution_count": null,
   "metadata": {},
   "outputs": [],
   "source": [
    "\n",
    "import sys\n",
    "import os\n",
    "\n",
    "# Ajouter le répertoire parent 'src' au PYTHONPATH\n",
    "parent_dir = os.path.abspath(os.path.join(os.getcwd(), '..', 'src'))\n",
    "sys.path.append(parent_dir)\n",
    "\n",
    "from sql_lite_insertion import insert_companies_and_reviews\n",
    "\n",
    "# Exemple d'utilisation de la fonction\n",
    "import pandas as pd\n",
    "\n",
    "# Charger votre DataFrame (df) depuis un fichier ou une autre source\n",
    "df = pd.read_csv(r\"C:\\Users\\MSI KATANA B13V\\Downloads\\de_satisfaction_client-develop\\de_satisfaction_client-develop\\data\\informations_entreprises.csv\", sep=',')  # Remplacez par le chemin de votre fichier CSV\n",
    "\n",
    "# Appeler la fonction pour insérer les données\n",
    "insert_companies_and_reviews(df)\n"
   ]
  },
  {
   "cell_type": "code",
   "execution_count": 4,
   "metadata": {},
   "outputs": [],
   "source": [
    "\n",
    "%load_ext sql\n",
    "%config SqlMagic.displaycon = False\n",
    "%config SqlMagic.feedback = False\n",
    "%config SqlMagic.displaylimit = 50\n",
    "%sql sqlite:///../src/trustscore.db\n",
    "%reload_ext sql\n",
    "\n"
   ]
  },
  {
   "cell_type": "code",
   "execution_count": 7,
   "metadata": {},
   "outputs": [],
   "source": [
    "from sklearn.impute import SimpleImputer\n",
    "import numpy as np\n",
    "\n",
    "def company_preprocessing(df):\n",
    "    \"\"\"\n",
    "    Prétraite les données des entreprises avant l'insertion.\n",
    "    \n",
    "    Paramètres:\n",
    "    - df (DataFrame): Le DataFrame contenant les données brutes.\n",
    "\n",
    "    Retourne:\n",
    "    - df (DataFrame): Le DataFrame nettoyé et prétraité.\n",
    "    \"\"\"\n",
    "    # Renommer les colonnes\n",
    "    df.rename(columns={\"review\": \"nombre_reviews\"}, inplace=True)\n",
    "\n",
    "    # Supprimer les espaces blancs et normaliser les valeurs\n",
    "    df['town'] = df['town'].astype(str).str.strip().str.upper().replace('nan', 'NaN')\n",
    "    df['country'] = df['country'].astype(str).str.strip().replace('nan', 'NaN')\n",
    "    df['institution_type'] = df['institution_type'].astype(str).str.strip().replace('nan', 'NaN')\n",
    "\n",
    "    # Remplacer les valeurs NaN avec les valeurs les plus fréquentes\n",
    "    imputer = SimpleImputer(missing_values='NaN', strategy='most_frequent')\n",
    "    df[['town', 'country', 'institution_type']] = imputer.fit_transform(df[['town', 'country', 'institution_type']])\n",
    "\n",
    "    # Convertir les colonnes numériques et gérer les valeurs NaN\n",
    "    df['trust_score'] = pd.to_numeric(df['trust_score'], errors='coerce').fillna(0)\n",
    "    df['five_star_%'] = df['five_star_%'].astype(str).replace('nan', '0').str.rstrip('%').astype(float) / 100\n",
    "    df['nombre_reviews'] = pd.to_numeric(df['nombre_reviews'], errors='coerce').fillna(0)\n",
    "\n",
    "    # Raccourcir le nom des entreprises\n",
    "    df['short_company_name'] = df['company_name']\n",
    "    df['company_name'] = df['short_company_name'].apply(lambda x: str(x).strip()[:7] + \"...\")\n",
    "\n",
    "    return df\n"
   ]
  },
  {
   "cell_type": "code",
   "execution_count": null,
   "metadata": {},
   "outputs": [],
   "source": [
    "# Charger votre DataFrame (df) depuis un fichier ou une autre source\n",
    "df = pd.read_csv(r\"C:\\Users\\MSI KATANA B13V\\Downloads\\de_satisfaction_client-develop\\de_satisfaction_client-develop\\data\\informations_entreprises.csv\", sep=',')  \n",
    "\n",
    "company_preprocessing(df)"
   ]
  },
  {
   "cell_type": "code",
   "execution_count": null,
   "metadata": {},
   "outputs": [],
   "source": [
    "%%sql\n",
    "CREATE TABLE companies_infos (\n",
    "  id INTEGER NOT NULL,\n",
    "  town VARCHAR(50), \n",
    "  country VARCHAR(50),\n",
    "  institution_type VARCHAR(100),\n",
    "  company_name VARCHAR(100),\n",
    "  trust_score  FLOAT, \n",
    "  nombre_reviews INTEGER,\n",
    "  five_star_percentage REAL,\n",
    "  short_company_name VARCHAR(50),\n",
    "  PRIMARY KEY (id));"
   ]
  },
  {
   "cell_type": "code",
   "execution_count": 1,
   "metadata": {},
   "outputs": [],
   "source": [
    "import sqlite3\n",
    "import pandas as pd\n",
    "\n",
    "def insert_companies_and_reviews(df, db_path='../src/trustscore.db'):\n",
    "    \"\"\"\n",
    "    Insère les données d'entreprises et de reviews dans les tables appropriées.\n",
    "\n",
    "    Paramètres:\n",
    "    - df (DataFrame): Le DataFrame prétraité contenant les données des entreprises et des reviews.\n",
    "    - db_path (str): Le chemin de la base de données SQLite.\n",
    "\n",
    "    Retourne:\n",
    "    - None\n",
    "    \"\"\"\n",
    "    try:\n",
    "        # Connexion à la base de données SQLite\n",
    "        conn = sqlite3.connect(db_path)\n",
    "\n",
    "        # Convertir la colonne en string avant manipulation\n",
    "        if 'five_star_%' in df.columns:\n",
    "            # Conversion sécurisée en chaîne de caractères\n",
    "            df['five_star_%'] = df['five_star_%'].astype(str)  # Convertir en chaîne pour éviter l'erreur .str\n",
    "\n",
    "            # Manipuler les valeurs pour enlever le % et diviser par 100\n",
    "            df['five_star_percentage'] = df['five_star_%'].str.rstrip('%').replace('nan', '0').astype(float) / 100\n",
    "\n",
    "            # Supprimer la colonne originale 'five_star_%' après conversion\n",
    "            df.drop(columns=['five_star_%'], inplace=True)\n",
    "\n",
    "        # Vérifier le DataFrame avant insertion\n",
    "        print(\"Données avant insertion :\")\n",
    "        print(df.head())\n",
    "        print(df.dtypes)\n",
    "\n",
    "        # Insertion des données dans la table `companies_infos`\n",
    "        df.to_sql('companies_infos', conn, if_exists='append', index=False)\n",
    "\n",
    "        print(\"Insertion des données terminée avec succès.\")\n",
    "\n",
    "    except Exception as e:\n",
    "        print(f\"Erreur lors de l'insertion des données : {e}\")\n",
    "\n",
    "    finally:\n",
    "        # Fermer la connexion\n",
    "        conn.close()\n"
   ]
  },
  {
   "cell_type": "code",
   "execution_count": 14,
   "metadata": {},
   "outputs": [
    {
     "name": "stdout",
     "output_type": "stream",
     "text": [
      "Table companies_infos vidée avec succès.\n"
     ]
    }
   ],
   "source": [
    "import sqlite3\n",
    "\n",
    "def truncate_table(db_path='../src/trustscore.db', table_name='companies_infos'):\n",
    "    try:\n",
    "        conn = sqlite3.connect(db_path)\n",
    "        cursor = conn.cursor()\n",
    "        # Supprime toutes les lignes de la table\n",
    "        cursor.execute(f\"DELETE FROM {table_name};\")\n",
    "        # Réinitialise l'auto-incrémentation (utile si la table a une colonne ID auto-incrémentée)\n",
    "        #cursor.execute(f\"DELETE FROM sqlite_sequence WHERE name='{table_name}';\")\n",
    "        conn.commit()\n",
    "        print(f\"Table {table_name} vidée avec succès.\")\n",
    "    except Exception as e:\n",
    "        print(f\"Erreur lors de la vidange de la table : {e}\")\n",
    "    finally:\n",
    "        conn.close()\n",
    "\n",
    "# Appel de la fonction pour vider la table\n",
    "truncate_table()\n"
   ]
  },
  {
   "cell_type": "code",
   "execution_count": 16,
   "metadata": {},
   "outputs": [
    {
     "data": {
      "text/html": [
       "<table>\n",
       "    <tr>\n",
       "        <th>count(1)</th>\n",
       "    </tr>\n",
       "    <tr>\n",
       "        <td>24</td>\n",
       "    </tr>\n",
       "</table>"
      ],
      "text/plain": [
       "[(24,)]"
      ]
     },
     "execution_count": 16,
     "metadata": {},
     "output_type": "execute_result"
    }
   ],
   "source": [
    "%%sql\n",
    "select count(1)\n",
    "from companies_infos"
   ]
  },
  {
   "cell_type": "code",
   "execution_count": 8,
   "metadata": {},
   "outputs": [
    {
     "name": "stdout",
     "output_type": "stream",
     "text": [
      "Preprocessing des données...\n",
      "Types de données après preprocessing :\n",
      "town                   object\n",
      "country                object\n",
      "institution_type       object\n",
      "company_name           object\n",
      "trust_score           float64\n",
      "nombre_reviews          int64\n",
      "five_star_%           float64\n",
      "short_company_name     object\n",
      "dtype: object\n",
      "Données avant insertion :\n",
      "       town        country institution_type company_name  trust_score  \\\n",
      "0  PORTLAND  United States     Credit Union   Evergre...          4.9   \n",
      "1   LINCOLN  United States  Mortgage Lender   Liberty...          4.7   \n",
      "2    IRVINE  United States              ATM   GoHenry...          4.3   \n",
      "3   CHICAGO  United States              ATM   Crypto ...          4.1   \n",
      "4   ATLANTA  United States             Bank   Anytime...          4.5   \n",
      "\n",
      "   nombre_reviews          short_company_name  five_star_percentage  \n",
      "0             343      Evergreen Credit Union                0.0096  \n",
      "1             308  Liberty First Credit Union                0.0092  \n",
      "2            3306           GoHenry by Acorns                0.0066  \n",
      "3             216           Crypto Dispensers                0.0063  \n",
      "4              19             Anytime Capital                0.0095  \n",
      "town                     object\n",
      "country                  object\n",
      "institution_type         object\n",
      "company_name             object\n",
      "trust_score             float64\n",
      "nombre_reviews            int64\n",
      "short_company_name       object\n",
      "five_star_percentage    float64\n",
      "dtype: object\n",
      "Insertion des données terminée avec succès.\n"
     ]
    }
   ],
   "source": [
    "import pandas as pd\n",
    "import os\n",
    "\n",
    "\n",
    "base_path =  '../data'\n",
    "csv_file_path = os.path.join(base_path, 'informations_entreprises.csv')\n",
    "json_file_path = os.path.join(base_path, 'df_commentaires_par_entreprise.json')\n",
    "\n",
    "df = pd.read_csv(csv_file_path)\n",
    "\n",
    "# df.head(5)\n",
    "# Étape 2 : Preprocessing des données\n",
    "print(\"Preprocessing des données...\")\n",
    "df = company_preprocessing(df)  # Appel de la fonction de preprocessing pour nettoyer et transformer les données\n",
    "\n",
    "#df.head(5)\n",
    "\n",
    "# Vérification des types de données après preprocessing\n",
    "print(\"Types de données après preprocessing :\")\n",
    "print(df.dtypes)\n",
    "\n",
    "        # Étape 3 : Insertion des données dans SQLite\n",
    "#print(\"Insertion des données dans SQLite...\")\n",
    "insert_companies_and_reviews(df)\n",
    "\n",
    "\n"
   ]
  },
  {
   "cell_type": "code",
   "execution_count": null,
   "metadata": {},
   "outputs": [],
   "source": []
  },
  {
   "cell_type": "code",
   "execution_count": null,
   "metadata": {},
   "outputs": [],
   "source": [
    "import sqlite3\n",
    "import pandas as pd\n",
    "\n",
    "def insert_companies_and_reviews(df, db_path='trustscore.db'):\n",
    "    \"\"\"\n",
    "    Insère les données d'entreprises et de reviews dans les tables appropriées.\n",
    "\n",
    "    Paramètres:\n",
    "    - df (DataFrame): Le DataFrame prétraité contenant les données des entreprises et des reviews.\n",
    "    - db_path (str): Le chemin de la base de données SQLite.\n",
    "\n",
    "    Retourne:\n",
    "    - None\n",
    "    \"\"\"\n",
    "    try:\n",
    "        # Connexion à la base de données SQLite\n",
    "        conn = sqlite3.connect(db_path)\n",
    "\n",
    "        # Vérification et conversion de la colonne 'five_star_%' en string si nécessaire\n",
    "        if 'five_star_%' in df.columns:\n",
    "            df['five_star_%'] = df['five_star_%'].astype(str)  # Convertir en string pour éviter les erreurs\n",
    "            # Supprimer le symbole % et convertir en float, puis diviser par 100\n",
    "            df['five_star_percentage'] = df['five_star_%'].str.rstrip('%').replace('nan', '0').astype(float) / 100\n",
    "            df.drop(columns=['five_star_%'], inplace=True)  # Supprimer la colonne originale après conversion\n",
    "        \n",
    "        # Vérifier le DataFrame avant insertion\n",
    "        print(\"Données avant insertion :\")\n",
    "        print(df.head())\n",
    "\n",
    "        # Insertion des données dans la table `companies_infos`\n",
    "        df.to_sql('companies_infos', conn, if_exists='append', index=False)\n",
    "\n",
    "        print(\"Insertion des données terminée avec succès.\")\n",
    "\n",
    "    except Exception as e:\n",
    "        print(f\"Erreur lors de l'insertion des données : {e}\")\n",
    "\n",
    "    finally:\n",
    "        # Fermer la connexion\n",
    "        conn.close()\n"
   ]
  },
  {
   "cell_type": "code",
   "execution_count": null,
   "metadata": {},
   "outputs": [],
   "source": [
    "insert_companies_and_reviews(df)"
   ]
  }
 ],
 "metadata": {
  "kernelspec": {
   "display_name": ".venv",
   "language": "python",
   "name": "python3"
  },
  "language_info": {
   "codemirror_mode": {
    "name": "ipython",
    "version": 3
   },
   "file_extension": ".py",
   "mimetype": "text/x-python",
   "name": "python",
   "nbconvert_exporter": "python",
   "pygments_lexer": "ipython3",
   "version": "3.10.10"
  }
 },
 "nbformat": 4,
 "nbformat_minor": 2
}
